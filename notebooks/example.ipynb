{
 "cells": [
  {
   "cell_type": "code",
   "execution_count": 9,
   "metadata": {},
   "outputs": [],
   "source": [
    "from loggify_llm.chat.chat_openai import ChatOpenAI, ChatOpenAIVision\n",
    "from datetime import datetime"
   ]
  },
  {
   "cell_type": "markdown",
   "metadata": {},
   "source": [
    "## Initialize Large Language Model Object"
   ]
  },
  {
   "cell_type": "code",
   "execution_count": 2,
   "metadata": {},
   "outputs": [
    {
     "name": "stdout",
     "output_type": "stream",
     "text": [
      "🔥 Successfully Get Access Database\n"
     ]
    }
   ],
   "source": [
    "llm = ChatOpenAI()"
   ]
  },
  {
   "cell_type": "markdown",
   "metadata": {},
   "source": [
    "## Case Study 1: System's prompt takes a short instruct from user's prompt"
   ]
  },
  {
   "cell_type": "code",
   "execution_count": 3,
   "metadata": {},
   "outputs": [
    {
     "name": "stdout",
     "output_type": "stream",
     "text": [
      "🔥 Successfully Log Request to Database\n",
      "{'request_id': 'chatcmpl-9tAV8YfjHJprijFv0DAGbIZl8gesD', 'llm_model': 'gpt-3.5-turbo', 'input': [{'role': 'system', 'content': '\\n    You possess in-depth knowledge of natural images and can describe them with ease.     From the given input text indicating the category name of a certain object, your task involves the following steps:\\n    1-Imagine a scene containing the input object.\\n    2-Generate 4 descriptions about different key appearance features of the input object from the imagined scene, with each description having a maximum of 16 words.\\n    3-Output a JSON object containing the following key:\\n        \"description\": <list of 4 descriptions>\\n\\n    Use the following examples:\\n        Input text: \"sea lion\"\\n        Answer: \"description\": [\"A round-bellied seal sits on a rock, looking intently at something off-camera.\", \"The seal lies with flippers tucked, sleek body well-maintained.\", \"The seal\\'s thick, smooth fur and large dark eyes show alertness and curiosity.\", \"Turquoise water contrasts with the seal\\'s brown fur and grey rock, highlighting its natural environment.\"]\\n'}, {'role': 'user', 'content': 'British shorthair'}], 'output': {'description': ['A fluffy British Shorthair cat lounges on a cozy window sill, gazing outside.', 'Its round face and chubby cheeks give it an adorable, teddy bear-like appearance.', \"The cat's dense, plush coat is a striking blue-gray color, adding to its charm.\", 'Large, round eyes exude a calm and content expression, typical of this breed.']}, 'completion_tokens': 82, 'prompt_tokens': 217, 'total_tokens': 299}\n"
     ]
    }
   ],
   "source": [
    "system_prompt = \"\"\"\n",
    "    You possess in-depth knowledge of natural images and can describe them with ease. \\\n",
    "    From the given input text indicating the category name of a certain object, your task involves the following steps:\n",
    "    1-Imagine a scene containing the input object.\n",
    "    2-Generate 4 descriptions about different key appearance features of the input object from the imagined scene, with each description having a maximum of 16 words.\n",
    "    3-Output a JSON object containing the following key:\n",
    "        \"description\": <list of 4 descriptions>\n",
    "\n",
    "    Use the following examples:\n",
    "        Input text: \"sea lion\"\n",
    "        Answer: \"description\": [\"A round-bellied seal sits on a rock, looking intently at something off-camera.\", \"The seal lies with flippers tucked, sleek body well-maintained.\", \"The seal's thick, smooth fur and large dark eyes show alertness and curiosity.\", \"Turquoise water contrasts with the seal's brown fur and grey rock, highlighting its natural environment.\"]\n",
    "\"\"\"\n",
    "response = llm.request(system_prompt=system_prompt, user_prompt=\"British shorthair\")\n",
    "print(response)"
   ]
  },
  {
   "cell_type": "markdown",
   "metadata": {},
   "source": [
    "## Case Study 2: Prompt an image"
   ]
  },
  {
   "cell_type": "code",
   "execution_count": null,
   "metadata": {},
   "outputs": [],
   "source": [
    "vision_llm = ChatOpenAIVision()\n",
    "\n",
    "response = vision_llm.request(\n",
    "    image_url=\"./bird.JPEG\", ## https://as2.ftcdn.net/v2/jpg/06/07/15/91/1000_F_607159100_WqruV2kR0i7dPAq57F4i7SFEJCscSC1x.jpg || ./bird.JPEG\n",
    "    user_prompt=\"Please describe the object in this image\",\n",
    "    show_preview=True\n",
    ")\n",
    "print(response)"
   ]
  },
  {
   "cell_type": "markdown",
   "metadata": {},
   "source": [
    "## Monitor Database"
   ]
  },
  {
   "cell_type": "code",
   "execution_count": 17,
   "metadata": {},
   "outputs": [
    {
     "data": {
      "text/plain": [
       "1305664"
      ]
     },
     "execution_count": 17,
     "metadata": {},
     "output_type": "execute_result"
    }
   ],
   "source": [
    "records = llm.mongo_logger.query_collection(query={\"time\": {\"$gte\": datetime(2024, 8, 8, 0, 0, 0)}})\n",
    "import pandas as pd\n",
    "import json\n",
    "df_ = pd.DataFrame(records)\n",
    "df_[\"total_tokens\"].sum()"
   ]
  },
  {
   "cell_type": "code",
   "execution_count": 29,
   "metadata": {},
   "outputs": [
    {
     "data": {
      "text/plain": [
       "{'_id': ObjectId('66b4a52e6b2f6a0fb95fa717'),\n",
       " 'request_id': 'chatcmpl-9tvA1jTyjOwW6uG7ybrObSf1SLrRX',\n",
       " 'llm_model': 'gpt-3.5-turbo',\n",
       " 'input': '[{\"role\": \"system\", \"content\": \"\\\\n    You possess in-depth knowledge in checking the quality of the answer to a given instruction. \\\\n    From the given input, which is a pair of instruction and answer, your task involves the following steps:\\\\n    1. Explain why the given answer is not good for its instruction. Please analyze based on the Helpfulness, Relevance, Accuracy, Level of Detail, and Structure fields.\\\\n    2. Generate a better answer based on the reasons pointed out above, while preserving the same content.\\\\n    3. Output a JSON object containing the following keys:\\\\n        {\\\\n            \\\\\"explanation\\\\\": {\\\\n                \\\\\"helpfulness\\\\\": <a brief comment on the helpfulness level, maximum 20 tokens>,\\\\n                \\\\\"relevance\\\\\": <a brief comment on the relevance level, maximum 20 tokens>,\\\\n                \\\\\"accuracy\\\\\": <a brief comment on the accuracy level, maximum 20 tokens>,\\\\n                \\\\\"detail\\\\\": <a brief comment on the level of detail, maximum 20 tokens>,\\\\n                \\\\\"structure\\\\\": <a brief comment on its structure, maximum 20 tokens>\\\\n            },\\\\n            \\\\\"revision\\\\\": <a better version of the answer, with a maximum of double the number of input tokens if the number of input tokens is greater than 2; otherwise, a maximum of 20 tokens>\\\\n        }\\\\n\\\\n    Use the following examples:\\\\n        Input: {\\\\n            \\\\\"instruction\\\\\": \\\\\"The sentence you are given might be too wordy, complicated, or unclear. Rewrite the sentence and make your writing clearer by keeping it concise. Whenever possible, break complex sentences into multiple sentences and eliminate unnecessary words.\\\\\",\\\\n            \\\\\"answer\\\\\": \\\\\"If you have any questions about my rate or find it necessary to increase or decrease this project\\'s scope, please let me know.\\\\\"\\\\n\\\\n        }\\\\n        Output: {\\\\n            \\\\\"explanation\\\\\": {\\\\n                \\\\\"helpfulness\\\\\": \\\\\"The answer is helpful in addressing the need for communication regarding rates and project scope adjustments\\\\\",\\\\n                \\\\\"relevance\\\\\": \\\\\"The response directly addresses the instruction by acknowledging the possibility of rate questions and scope changes\\\\\",\\\\n                \\\\\"accuracy\\\\\": \\\\\"The answer is accurate in conveying the message, but it can be improved for clarity and conciseness\\\\\",\\\\n                \\\\\"detail\\\\\": \\\\\"The answer is lacking in conciseness and could benefit from simplification for better understanding\\\\\",\\\\n                \\\\\"structure\\\\\": \\\\\"The sentence is overly wordy and could be restructured for improved readability\\\\\"\\\\n            },\\\\n            \\\\\"revision\\\\\": \\\\\"If you have any inquiries regarding my rate or require modifications to the project scope, kindly notify me. This open communication will ensure that we address any concerns promptly and effectively.\\\\\"\\\\n        }\\\\n\"}, {\"role\": \"user\", \"content\": \"{\\\\\"instruction\\\\\": \\\\\"Narrate the contents of the image with precision\\\\\\\\n<image>\\\\\", \\\\\"answer\\\\\": \\\\\"(a) and (b) Simulated far-field reflection Rpp and Rss for both incident planes along \\\\\\\\u0413X (\\\\\\\\u03c6 = 0\\\\\\\\u00b0) and \\\\\\\\u0413M (\\\\\\\\u03c6 = 45\\\\\\\\u00b0) direction, respectively. (c) The effect on reflection of the sectioned metallic rods at the outmost surface cell with varying length, h, as depicted in (d1). The length, varying from 185 \\\\\\\\u03bcm to 315 \\\\\\\\u03bcm, influences the DSS frequency, which can be understood qualitatively by a circuit model shown in the inset. The DSS dips are marked by the dotted circles for different h values. (d1\\\\\\\\u2013d2) Schematics of EM fields of the DSS and simulated contour plot of E-field at 0.34THz for Rpp with \\\\\\\\u03b8 = 15\\\\\\\\u00b0, \\\\\\\\u03c6 = 0\\\\\\\\u00b0, and h = 228 \\\\\\\\u03bcm. (e) and (f) Simulated far-field reflection Rpp for h = 185 \\\\\\\\u03bcm and h = 270 \\\\\\\\u03bcm, respectively.\\\\\"}\"}]',\n",
       " 'output': '{\"explanation\": {\"helpfulness\": \"The answer provides detailed information on the contents of the image, but it lacks precision and clarity\", \"relevance\": \"The response addresses the instruction by describing various elements in the image, but it needs to be more focused and specific\", \"accuracy\": \"The answer seems accurate in describing the contents of the image, but it can be improved for better clarity and precision\", \"detail\": \"The answer contains a high level of detail, but it needs to be organized and presented more clearly\", \"structure\": \"The answer lacks a clear structure and is presented in a somewhat convoluted manner\"}, \"revision\": \"(a) and (b) Simulated far-field reflection Rpp and Rss for incident planes along \\\\u0413X (\\\\u03c6 = 0\\\\u00b0) and \\\\u0413M (\\\\u03c6 = 45\\\\u00b0) direction. (c) Effect of sectioned metallic rods on reflection at the outmost surface cell with varying length, h, as shown in (d1). The length ranges from 185 \\\\u03bcm to 315 \\\\u03bcm, affecting the DSS frequency, qualitatively explained by a circuit model in the inset. DSS dips are indicated by dotted circles for different h values. (d1\\\\u2013d2) Schematics of EM fields of the DSS and contour plot of E-field at 0.34THz for Rpp with \\\\u03b8 = 15\\\\u00b0, \\\\u03c6 = 0\\\\u00b0, and h = 228 \\\\u03bcm. (e) and (f) Simulated far-field reflection Rpp for h = 185 \\\\u03bcm and h = 270 \\\\u03bcm.\"}',\n",
       " 'completion_tokens': 387,\n",
       " 'prompt_tokens': 812,\n",
       " 'total_tokens': 1199,\n",
       " 'time': datetime.datetime(2024, 8, 8, 10, 59, 58, 460000)}"
      ]
     },
     "execution_count": 29,
     "metadata": {},
     "output_type": "execute_result"
    }
   ],
   "source": [
    "records[-1]"
   ]
  },
  {
   "cell_type": "code",
   "execution_count": 27,
   "metadata": {},
   "outputs": [
    {
     "name": "stdout",
     "output_type": "stream",
     "text": [
      "{\n",
      "    \"explanation\": {\n",
      "        \"helpfulness\": \"The answer provides detailed information on the contents of the image, but it lacks precision and clarity\",\n",
      "        \"relevance\": \"The response addresses the instruction by describing various elements in the image, but it needs to be more focused and specific\",\n",
      "        \"accuracy\": \"The answer seems accurate in describing the contents of the image, but it can be improved for better clarity and precision\",\n",
      "        \"detail\": \"The answer contains a high level of detail, but it needs to be organized and presented more clearly\",\n",
      "        \"structure\": \"The answer lacks a clear structure and is presented in a somewhat convoluted manner\"\n",
      "    },\n",
      "    \"revision\": \"(a) and (b) Simulated far-field reflection Rpp and Rss for incident planes along \\u0413X (\\u03c6 = 0\\u00b0) and \\u0413M (\\u03c6 = 45\\u00b0) direction. (c) Effect of sectioned metallic rods on reflection at the outmost surface cell with varying length, h, as shown in (d1). The length ranges from 185 \\u03bcm to 315 \\u03bcm, affecting the DSS frequency, qualitatively explained by a circuit model in the inset. DSS dips are indicated by dotted circles for different h values. (d1\\u2013d2) Schematics of EM fields of the DSS and contour plot of E-field at 0.34THz for Rpp with \\u03b8 = 15\\u00b0, \\u03c6 = 0\\u00b0, and h = 228 \\u03bcm. (e) and (f) Simulated far-field reflection Rpp for h = 185 \\u03bcm and h = 270 \\u03bcm.\"\n",
      "}\n"
     ]
    }
   ],
   "source": [
    "print(json.dumps(json.loads(records[-1][\"output\"]),indent=4))"
   ]
  }
 ],
 "metadata": {
  "kernelspec": {
   "display_name": "rag",
   "language": "python",
   "name": "rag"
  },
  "language_info": {
   "codemirror_mode": {
    "name": "ipython",
    "version": 3
   },
   "file_extension": ".py",
   "mimetype": "text/x-python",
   "name": "python",
   "nbconvert_exporter": "python",
   "pygments_lexer": "ipython3",
   "version": "3.10.0"
  }
 },
 "nbformat": 4,
 "nbformat_minor": 2
}
