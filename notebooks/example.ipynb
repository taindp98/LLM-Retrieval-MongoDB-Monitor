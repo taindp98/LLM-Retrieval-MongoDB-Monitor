{
 "cells": [
  {
   "cell_type": "code",
   "execution_count": 1,
   "metadata": {},
   "outputs": [],
   "source": [
    "from loggify_llm.chat.chat_openai import ChatOpenAI, ChatOpenAIVision\n",
    "from datetime import datetime"
   ]
  },
  {
   "cell_type": "markdown",
   "metadata": {},
   "source": [
    "## Initialize Large Language Model Object"
   ]
  },
  {
   "cell_type": "code",
   "execution_count": 2,
   "metadata": {},
   "outputs": [
    {
     "name": "stdout",
     "output_type": "stream",
     "text": [
      "🔥 Successfully Get Access Database\n"
     ]
    }
   ],
   "source": [
    "llm = ChatOpenAI()"
   ]
  },
  {
   "cell_type": "markdown",
   "metadata": {},
   "source": [
    "## Case Study 1: System's prompt takes a short instruct from user's prompt"
   ]
  },
  {
   "cell_type": "code",
   "execution_count": 3,
   "metadata": {},
   "outputs": [
    {
     "name": "stdout",
     "output_type": "stream",
     "text": [
      "🔥 Successfully Log Request to Database\n",
      "{'request_id': 'chatcmpl-9tAV8YfjHJprijFv0DAGbIZl8gesD', 'llm_model': 'gpt-3.5-turbo', 'input': [{'role': 'system', 'content': '\\n    You possess in-depth knowledge of natural images and can describe them with ease.     From the given input text indicating the category name of a certain object, your task involves the following steps:\\n    1-Imagine a scene containing the input object.\\n    2-Generate 4 descriptions about different key appearance features of the input object from the imagined scene, with each description having a maximum of 16 words.\\n    3-Output a JSON object containing the following key:\\n        \"description\": <list of 4 descriptions>\\n\\n    Use the following examples:\\n        Input text: \"sea lion\"\\n        Answer: \"description\": [\"A round-bellied seal sits on a rock, looking intently at something off-camera.\", \"The seal lies with flippers tucked, sleek body well-maintained.\", \"The seal\\'s thick, smooth fur and large dark eyes show alertness and curiosity.\", \"Turquoise water contrasts with the seal\\'s brown fur and grey rock, highlighting its natural environment.\"]\\n'}, {'role': 'user', 'content': 'British shorthair'}], 'output': {'description': ['A fluffy British Shorthair cat lounges on a cozy window sill, gazing outside.', 'Its round face and chubby cheeks give it an adorable, teddy bear-like appearance.', \"The cat's dense, plush coat is a striking blue-gray color, adding to its charm.\", 'Large, round eyes exude a calm and content expression, typical of this breed.']}, 'completion_tokens': 82, 'prompt_tokens': 217, 'total_tokens': 299}\n"
     ]
    }
   ],
   "source": [
    "system_prompt = \"\"\"\n",
    "    You possess in-depth knowledge of natural images and can describe them with ease. \\\n",
    "    From the given input text indicating the category name of a certain object, your task involves the following steps:\n",
    "    1-Imagine a scene containing the input object.\n",
    "    2-Generate 4 descriptions about different key appearance features of the input object from the imagined scene, with each description having a maximum of 16 words.\n",
    "    3-Output a JSON object containing the following key:\n",
    "        \"description\": <list of 4 descriptions>\n",
    "\n",
    "    Use the following examples:\n",
    "        Input text: \"sea lion\"\n",
    "        Answer: \"description\": [\"A round-bellied seal sits on a rock, looking intently at something off-camera.\", \"The seal lies with flippers tucked, sleek body well-maintained.\", \"The seal's thick, smooth fur and large dark eyes show alertness and curiosity.\", \"Turquoise water contrasts with the seal's brown fur and grey rock, highlighting its natural environment.\"]\n",
    "\"\"\"\n",
    "response = llm.request(system_prompt=system_prompt, user_prompt=\"British shorthair\")\n",
    "print(response)"
   ]
  },
  {
   "cell_type": "markdown",
   "metadata": {},
   "source": [
    "## Case Study 2: Prompt an image"
   ]
  },
  {
   "cell_type": "code",
   "execution_count": null,
   "metadata": {},
   "outputs": [],
   "source": [
    "vision_llm = ChatOpenAIVision()\n",
    "\n",
    "response = vision_llm.request(\n",
    "    image_url=\"./bird.JPEG\", ## https://as2.ftcdn.net/v2/jpg/06/07/15/91/1000_F_607159100_WqruV2kR0i7dPAq57F4i7SFEJCscSC1x.jpg || ./bird.JPEG\n",
    "    user_prompt=\"Please describe the object in this image\",\n",
    "    show_preview=True\n",
    ")\n",
    "print(response)"
   ]
  },
  {
   "cell_type": "markdown",
   "metadata": {},
   "source": [
    "## Monitor Database"
   ]
  },
  {
   "cell_type": "code",
   "execution_count": 3,
   "metadata": {},
   "outputs": [
    {
     "data": {
      "text/plain": [
       "35.548326"
      ]
     },
     "execution_count": 3,
     "metadata": {},
     "output_type": "execute_result"
    }
   ],
   "source": [
    "records = llm.mongo_logger.query_collection(query={\"time\": {\"$gte\": datetime(2024, 8, 8, 0, 0, 0)}})\n",
    "llm.mongo_logger.estimate_cost(records)"
   ]
  }
 ],
 "metadata": {
  "kernelspec": {
   "display_name": "rag",
   "language": "python",
   "name": "rag"
  },
  "language_info": {
   "codemirror_mode": {
    "name": "ipython",
    "version": 3
   },
   "file_extension": ".py",
   "mimetype": "text/x-python",
   "name": "python",
   "nbconvert_exporter": "python",
   "pygments_lexer": "ipython3",
   "version": "3.10.0"
  }
 },
 "nbformat": 4,
 "nbformat_minor": 2
}
