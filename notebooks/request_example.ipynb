{
 "cells": [
  {
   "cell_type": "code",
   "execution_count": 1,
   "metadata": {},
   "outputs": [],
   "source": [
    "from simple_rag.chat.chat_openai import ChatOpenAI\n",
    "from simple_rag.prompt.template import visual_language_generation\n",
    "from simple_rag.utils import connect_to_database, insert_to_db"
   ]
  },
  {
   "cell_type": "code",
   "execution_count": 2,
   "metadata": {},
   "outputs": [
    {
     "name": "stdout",
     "output_type": "stream",
     "text": [
      "🔥 Successfully Get Access Database\n"
     ]
    }
   ],
   "source": [
    "collection = connect_to_database()"
   ]
  },
  {
   "cell_type": "code",
   "execution_count": 3,
   "metadata": {},
   "outputs": [],
   "source": [
    "llm = ChatOpenAI()\n",
    "response = llm.request(prompt=visual_language_generation, question=\"British shorthair\")"
   ]
  },
  {
   "cell_type": "code",
   "execution_count": 4,
   "metadata": {},
   "outputs": [
    {
     "data": {
      "text/plain": [
       "{'request_id': 'chatcmpl-9sN8dv7eOJCXD499O4L022l0vBP3W',\n",
       " 'output': {'description': ['A fluffy British Shorthair cat lounges on a cozy window sill, gazing outside.',\n",
       "   'Its round face and chubby cheeks give it an adorable and endearing look.',\n",
       "   \"The cat's dense, plush coat is a striking blue-gray color, adding to its charm.\",\n",
       "   \"Sunlight filters through the window, casting a warm glow on the cat's luxurious fur.\"]},\n",
       " 'completion_tokens': 81,\n",
       " 'prompt_tokens': 217,\n",
       " 'total_tokens': 298}"
      ]
     },
     "execution_count": 4,
     "metadata": {},
     "output_type": "execute_result"
    }
   ],
   "source": [
    "response"
   ]
  },
  {
   "cell_type": "code",
   "execution_count": 5,
   "metadata": {},
   "outputs": [
    {
     "name": "stdout",
     "output_type": "stream",
     "text": [
      "🔥 Successfully Log Request to Database\n"
     ]
    }
   ],
   "source": [
    "insert_to_db(collection=collection, data=response)"
   ]
  }
 ],
 "metadata": {
  "kernelspec": {
   "display_name": "rag",
   "language": "python",
   "name": "rag"
  },
  "language_info": {
   "codemirror_mode": {
    "name": "ipython",
    "version": 3
   },
   "file_extension": ".py",
   "mimetype": "text/x-python",
   "name": "python",
   "nbconvert_exporter": "python",
   "pygments_lexer": "ipython3",
   "version": "3.10.0"
  }
 },
 "nbformat": 4,
 "nbformat_minor": 2
}
